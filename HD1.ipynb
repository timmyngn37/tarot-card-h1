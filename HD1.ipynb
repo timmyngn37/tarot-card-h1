{
 "cells": [
  {
   "cell_type": "markdown",
   "id": "d6bd7e7e",
   "metadata": {},
   "source": [
    "Libraries."
   ]
  },
  {
   "cell_type": "code",
   "execution_count": null,
   "id": "1d0848ff",
   "metadata": {
    "vscode": {
     "languageId": "plaintext"
    }
   },
   "outputs": [],
   "source": [
    "import pandas as pd\n",
    "import textblob\n",
    "from textblob import TextBlob"
   ]
  },
  {
   "cell_type": "markdown",
   "id": "3b3f3f05",
   "metadata": {},
   "source": [
    "Sentiment Analysis."
   ]
  },
  {
   "cell_type": "code",
   "execution_count": null,
   "id": "ee04388a",
   "metadata": {
    "vscode": {
     "languageId": "plaintext"
    }
   },
   "outputs": [],
   "source": [
    "def get_sentiment_score(text):\n",
    "    if pd.isnull(text):\n",
    "        return 0\n",
    "    else:\n",
    "        return TextBlob(text).sentiment.polarity\n",
    "\n",
    "def get_sentiment(text):\n",
    "    if pd.isnull(text):\n",
    "        return 'neutral'\n",
    "    else:\n",
    "        blob = TextBlob(text)\n",
    "        if blob.sentiment.polarity > 0:\n",
    "            return 'positive'\n",
    "        elif blob.sentiment.polarity < 0:\n",
    "            return 'negative'\n",
    "        else:\n",
    "            return 'neutral'"
   ]
  },
  {
   "cell_type": "markdown",
   "id": "01520504",
   "metadata": {},
   "source": [
    "Read the CSV file."
   ]
  },
  {
   "cell_type": "code",
   "execution_count": null,
   "id": "1db12b01",
   "metadata": {
    "vscode": {
     "languageId": "plaintext"
    }
   },
   "outputs": [],
   "source": [
    "import pandas as pd\n",
    "columns = ['Name', 'Personality', 'Temperament', 'Tarot Card', 'Comment']\n",
    "data = pd.read_csv('user_list.csv', names=columns)\n",
    "data['Sentiment Score'] = data['Comment'].apply(get_sentiment_score)\n",
    "data['Sentiment'] = data['Comment'].apply(get_sentiment)\n",
    "data.head(5)"
   ]
  }
 ],
 "metadata": {
  "language_info": {
   "name": "python"
  }
 },
 "nbformat": 4,
 "nbformat_minor": 5
}
